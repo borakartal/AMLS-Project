{
 "cells": [
  {
   "cell_type": "code",
   "execution_count": 1,
   "id": "ca80c971",
   "metadata": {},
   "outputs": [],
   "source": [
    "#First of all we import all the necessary modules that we have installed on Anaconda Navigator. The modules below are used for\n",
    "#reading the image files and the Excel document and other functions. As we will be using sklearn for our model, it is also \n",
    "#installed\n",
    "\n",
    "import numpy as np\n",
    "from imutils import paths\n",
    "import cv2\n",
    "import matplotlib.pyplot as plt\n",
    "from sklearn import svm, datasets\n",
    "from sklearn.svm import SVC\n",
    "from sklearn.model_selection import train_test_split\n",
    "from sklearn.utils import shuffle\n",
    "from sklearn.metrics import classification_report,accuracy_score\n",
    "import pandas as pd\n",
    "import os"
   ]
  },
  {
   "cell_type": "code",
   "execution_count": 2,
   "id": "05be17aa",
   "metadata": {},
   "outputs": [],
   "source": [
    "#The path for the images are defined here, and are read using the cv2.imread function in a for loop. The list is also sorted \n",
    "#according to alphabetic order from IMAGE_0000 to IMAGE_2999. Images are also turned into grayscale for better efficiency\n",
    "\n",
    "path = ('C:/Users/borak/AMLS/dataset/image')\n",
    "\n",
    "img_paths = sorted(list(paths.list_images(path)))\n",
    "\n",
    "img_list = []\n",
    "\n",
    "for path in img_paths:\n",
    "    image_file = cv2.imread(path)\n",
    "    gray = cv2.cvtColor(image_file, cv2.COLOR_BGR2GRAY)\n",
    "    img_list.append(gray)"
   ]
  },
  {
   "cell_type": "code",
   "execution_count": 4,
   "id": "dbf7410c",
   "metadata": {},
   "outputs": [],
   "source": [
    "#Lists which will be used as inputs are created here. X will be the list that contains image data, and Y will contain the \n",
    "# labels (0 for no tumor, 1 for tumor). For loop is used and it repeats for 3000 times as there are 3000 data points.\n",
    "\n",
    "X = []\n",
    "Y = []\n",
    "\n",
    "#Path for the labels is written here \n",
    "\n",
    "labeldata = pd.read_csv ('C:/Users/borak/AMLS/dataset/label.csv')\n",
    "\n",
    "#If loops in the loop below will search for label names and act accordingly by appending the appropriate number in Y list\n",
    "\n",
    "for i in range (0,3000):\n",
    "    X.append(img_list[i])\n",
    "    if (\"no_tumor\") in (labeldata.iat[i,1]):\n",
    "        Y.append(0)\n",
    "    else:\n",
    "        Y.append(1)"
   ]
  },
  {
   "cell_type": "code",
   "execution_count": 5,
   "id": "f77461d4",
   "metadata": {
    "scrolled": true
   },
   "outputs": [
    {
     "data": {
      "text/plain": [
       "(3000, 262144)"
      ]
     },
     "execution_count": 5,
     "metadata": {},
     "output_type": "execute_result"
    }
   ],
   "source": [
    "#X list is turned into an array and reshaped so that it is easier to use in our model\n",
    "\n",
    "X=np.array(X) \n",
    "X_resized=X.reshape(len(X),-1) "
   ]
  },
  {
   "cell_type": "code",
   "execution_count": 6,
   "id": "27522208",
   "metadata": {},
   "outputs": [],
   "source": [
    "#Our inputs X_resized and Y are shuffled and split into train and test data. 0.8 of the data is used for training and the rest \n",
    "#is used for tesing. The random state is set as 42\n",
    "\n",
    "X_resized, Y = shuffle(X_resized,Y)\n",
    "x_train, x_test, y_train, y_test = train_test_split(X_resized, Y, train_size=0.8, random_state=42)"
   ]
  },
  {
   "cell_type": "code",
   "execution_count": 7,
   "id": "4feddaeb",
   "metadata": {},
   "outputs": [
    {
     "name": "stdout",
     "output_type": "stream",
     "text": [
      "0.9333333333333333\n"
     ]
    }
   ],
   "source": [
    "#SVM model is defined and run in this cell. The model is linear, and the accuracy result is printed in the end\n",
    "\n",
    "def SVM(x_train,y_train, x_test):\n",
    "    model = SVC(kernel='linear')\n",
    "    model.fit(x_train,y_train)\n",
    "    y_pred = model.predict(x_test)\n",
    "    return y_pred\n",
    "# Scikit learn library results\n",
    "y_pred=SVM(x_train,y_train, x_test)\n",
    "print(accuracy_score(y_test,y_pred))"
   ]
  }
 ],
 "metadata": {
  "kernelspec": {
   "display_name": "Python 3 (ipykernel)",
   "language": "python",
   "name": "python3"
  },
  "language_info": {
   "codemirror_mode": {
    "name": "ipython",
    "version": 3
   },
   "file_extension": ".py",
   "mimetype": "text/x-python",
   "name": "python",
   "nbconvert_exporter": "python",
   "pygments_lexer": "ipython3",
   "version": "3.9.7"
  }
 },
 "nbformat": 4,
 "nbformat_minor": 5
}
