{
 "cells": [
  {
   "cell_type": "code",
   "execution_count": 13,
   "id": "6260e905",
   "metadata": {},
   "outputs": [],
   "source": [
    "import numpy as np\n",
    "from imutils import paths\n",
    "import cv2\n",
    "import matplotlib.pyplot as plt\n",
    "from sklearn import svm, datasets\n",
    "from sklearn.svm import SVC\n",
    "from sklearn.model_selection import train_test_split\n",
    "from sklearn.utils import shuffle\n",
    "from sklearn.metrics import classification_report,accuracy_score\n",
    "import pandas as pd \n",
    "import tensorflow as tf\n",
    "from tensorflow.keras import datasets, layers, models\n",
    "from tensorflow import keras\n",
    "from PIL import Image"
   ]
  },
  {
   "cell_type": "code",
   "execution_count": 30,
   "id": "3ad7570d",
   "metadata": {},
   "outputs": [],
   "source": [
    "path = ('C:/Users/borak/AMLS/dataset/image')\n",
    "\n",
    "img_paths = sorted(list(paths.list_images(path)))\n",
    "\n",
    "img_list = []\n",
    "\n",
    "for path in img_paths:\n",
    "    image_file = cv2.imread(path)\n",
    "    resized = cv2.resize(image_file,(64,64))\n",
    "    gray = cv2.cvtColor(resized, cv2.COLOR_BGR2GRAY)\n",
    "    img_list.append(gray)"
   ]
  },
  {
   "cell_type": "code",
   "execution_count": 31,
   "id": "1aad1232",
   "metadata": {},
   "outputs": [],
   "source": [
    "X = []\n",
    "Y = []\n",
    "\n",
    "labeldata = pd.read_csv ('C:/Users/borak/AMLS/dataset/label.csv')\n",
    "\n",
    "for i in range (0,3000):\n",
    "    X.append(img_list[i])\n",
    "    if (\"no_tumor\") in (labeldata.iat[i,1]):\n",
    "        Y.append(0)\n",
    "    elif (\"meningioma_tumor\") in (labeldata.iat[i,1]):\n",
    "        Y.append(1)\n",
    "    elif (\"glioma_tumor\") in (labeldata.iat[i,1]):\n",
    "        Y.append(2)\n",
    "    elif (\"pituitary_tumor\") in (labeldata.iat[i,1]):\n",
    "        Y.append(3)"
   ]
  },
  {
   "cell_type": "code",
   "execution_count": 32,
   "id": "6d28cc1a",
   "metadata": {},
   "outputs": [],
   "source": [
    "Y=np.array(Y)\n",
    "Y=Y.flatten()\n",
    "#Y"
   ]
  },
  {
   "cell_type": "code",
   "execution_count": 33,
   "id": "2dc0b45a",
   "metadata": {},
   "outputs": [],
   "source": [
    "X=np.array(X) \n",
    "X_resized=X.reshape(-1,64,64,1) \n",
    "X_resized=X_resized/255.0\n",
    "#X_resized"
   ]
  },
  {
   "cell_type": "code",
   "execution_count": 34,
   "id": "9435e886",
   "metadata": {},
   "outputs": [],
   "source": [
    "from sklearn.preprocessing import LabelEncoder\n",
    "from sklearn.preprocessing import OneHotEncoder\n",
    "from numpy import array\n",
    "from numpy import argmax"
   ]
  },
  {
   "cell_type": "code",
   "execution_count": 35,
   "id": "116f8a5d",
   "metadata": {},
   "outputs": [
    {
     "name": "stdout",
     "output_type": "stream",
     "text": [
      "[[0. 1. 0. 0.]\n",
      " [1. 0. 0. 0.]\n",
      " [0. 1. 0. 0.]\n",
      " ...\n",
      " [0. 0. 1. 0.]\n",
      " [0. 0. 1. 0.]\n",
      " [0. 0. 0. 1.]]\n"
     ]
    }
   ],
   "source": [
    "values = array(Y)\n",
    "encoder = LabelEncoder()\n",
    "integer_encoded = encoder.fit_transform(values)\n",
    "#print(integer_encoded)\n",
    "# binary encode\n",
    "onehot_encoder = OneHotEncoder(sparse=False)\n",
    "integer_encoded = integer_encoded.reshape(len(integer_encoded), 1)\n",
    "onehot_encoded = onehot_encoder.fit_transform(integer_encoded)\n",
    "print(onehot_encoded)"
   ]
  },
  {
   "cell_type": "code",
   "execution_count": 36,
   "id": "5b0e18ec",
   "metadata": {},
   "outputs": [],
   "source": [
    "from keras.models import Sequential\n",
    "from keras.layers import Convolution2D\n",
    "from keras.layers import MaxPooling2D\n",
    "from keras.layers import Activation\n",
    "from keras.layers import Flatten\n",
    "from keras.layers import Dense\n",
    "from keras.layers import Dropout"
   ]
  },
  {
   "cell_type": "code",
   "execution_count": 45,
   "id": "4fc9bac5",
   "metadata": {
    "scrolled": true
   },
   "outputs": [
    {
     "name": "stdout",
     "output_type": "stream",
     "text": [
      "Model: \"sequential_7\"\n",
      "_________________________________________________________________\n",
      " Layer (type)                Output Shape              Param #   \n",
      "=================================================================\n",
      " conv2d_14 (Conv2D)          (None, 60, 60, 64)        1664      \n",
      "                                                                 \n",
      " activation_32 (Activation)  (None, 60, 60, 64)        0         \n",
      "                                                                 \n",
      " max_pooling2d_14 (MaxPoolin  (None, 30, 30, 64)       0         \n",
      " g2D)                                                            \n",
      "                                                                 \n",
      " conv2d_15 (Conv2D)          (None, 28, 28, 64)        36928     \n",
      "                                                                 \n",
      " activation_33 (Activation)  (None, 28, 28, 64)        0         \n",
      "                                                                 \n",
      " max_pooling2d_15 (MaxPoolin  (None, 14, 14, 64)       0         \n",
      " g2D)                                                            \n",
      "                                                                 \n",
      " flatten_7 (Flatten)         (None, 12544)             0         \n",
      "                                                                 \n",
      " dense_20 (Dense)            (None, 128)               1605760   \n",
      "                                                                 \n",
      " activation_34 (Activation)  (None, 128)               0         \n",
      "                                                                 \n",
      " dropout_7 (Dropout)         (None, 128)               0         \n",
      "                                                                 \n",
      " dense_21 (Dense)            (None, 4)                 516       \n",
      "                                                                 \n",
      " activation_35 (Activation)  (None, 4)                 0         \n",
      "                                                                 \n",
      "=================================================================\n",
      "Total params: 1,644,868\n",
      "Trainable params: 1,644,868\n",
      "Non-trainable params: 0\n",
      "_________________________________________________________________\n"
     ]
    }
   ],
   "source": [
    "model=Sequential()\n",
    "model.add(Convolution2D(64,(5,5),input_shape=X_resized.shape[1:]))\n",
    "model.add(Activation(\"relu\"))\n",
    "model.add(MaxPooling2D(pool_size=(2,2)))\n",
    "\n",
    "#model.add(Dropout(0.2))\n",
    "\n",
    "model.add(Convolution2D(64,(3,3)))\n",
    "model.add(Activation(\"relu\"))\n",
    "model.add(MaxPooling2D(pool_size=(2,2)))\n",
    "\n",
    "model.add(Flatten())\n",
    "\n",
    "model.add(Dense(128))\n",
    "model.add(Activation(\"relu\"))\n",
    "model.add(Dropout(0.2))\n",
    "model.add(Dense(4))\n",
    "model.add(Activation('softmax'))\n",
    "\n",
    "model.compile(loss=\"categorical_crossentropy\",\n",
    "             optimizer=\"adam\",\n",
    "             metrics=['accuracy'])\n",
    "model.summary()"
   ]
  },
  {
   "cell_type": "code",
   "execution_count": 46,
   "id": "2c258dc4",
   "metadata": {
    "scrolled": true
   },
   "outputs": [
    {
     "name": "stdout",
     "output_type": "stream",
     "text": [
      "Epoch 1/12\n",
      "80/80 [==============================] - 6s 69ms/step - loss: 1.0276 - accuracy: 0.5608 - val_loss: 0.8667 - val_accuracy: 0.6200\n",
      "Epoch 2/12\n",
      "80/80 [==============================] - 6s 70ms/step - loss: 0.6903 - accuracy: 0.7220 - val_loss: 0.6413 - val_accuracy: 0.7511\n",
      "Epoch 3/12\n",
      "80/80 [==============================] - 6s 72ms/step - loss: 0.5394 - accuracy: 0.7906 - val_loss: 0.5827 - val_accuracy: 0.7844\n",
      "Epoch 4/12\n",
      "80/80 [==============================] - 6s 70ms/step - loss: 0.4426 - accuracy: 0.8267 - val_loss: 0.5373 - val_accuracy: 0.7867\n",
      "Epoch 5/12\n",
      "80/80 [==============================] - 6s 72ms/step - loss: 0.3007 - accuracy: 0.8941 - val_loss: 0.4995 - val_accuracy: 0.7956\n",
      "Epoch 6/12\n",
      "80/80 [==============================] - 6s 71ms/step - loss: 0.2140 - accuracy: 0.9239 - val_loss: 0.4141 - val_accuracy: 0.8622\n",
      "Epoch 7/12\n",
      "80/80 [==============================] - 6s 70ms/step - loss: 0.1573 - accuracy: 0.9459 - val_loss: 0.4900 - val_accuracy: 0.8200\n",
      "Epoch 8/12\n",
      "80/80 [==============================] - 6s 70ms/step - loss: 0.1484 - accuracy: 0.9498 - val_loss: 0.4124 - val_accuracy: 0.8778\n",
      "Epoch 9/12\n",
      "80/80 [==============================] - 6s 69ms/step - loss: 0.1034 - accuracy: 0.9651 - val_loss: 0.3848 - val_accuracy: 0.8978\n",
      "Epoch 10/12\n",
      "80/80 [==============================] - 6s 70ms/step - loss: 0.0623 - accuracy: 0.9820 - val_loss: 0.4912 - val_accuracy: 0.8711\n",
      "Epoch 11/12\n",
      "80/80 [==============================] - 6s 69ms/step - loss: 0.0552 - accuracy: 0.9843 - val_loss: 0.4416 - val_accuracy: 0.8956\n",
      "Epoch 12/12\n",
      "80/80 [==============================] - 6s 70ms/step - loss: 0.0400 - accuracy: 0.9882 - val_loss: 0.4773 - val_accuracy: 0.8844\n"
     ]
    },
    {
     "data": {
      "text/plain": [
       "<keras.callbacks.History at 0x18288850850>"
      ]
     },
     "execution_count": 46,
     "metadata": {},
     "output_type": "execute_result"
    }
   ],
   "source": [
    "model.fit(X_resized,onehot_encoded,batch_size=32,epochs=12,validation_split=0.15)"
   ]
  },
  {
   "cell_type": "code",
   "execution_count": 47,
   "id": "2d6801bf",
   "metadata": {},
   "outputs": [
    {
     "ename": "NameError",
     "evalue": "name 'plot' is not defined",
     "output_type": "error",
     "traceback": [
      "\u001b[1;31m---------------------------------------------------------------------------\u001b[0m",
      "\u001b[1;31mNameError\u001b[0m                                 Traceback (most recent call last)",
      "\u001b[1;32m~\\AppData\\Local\\Temp/ipykernel_2724/14633811.py\u001b[0m in \u001b[0;36m<module>\u001b[1;34m\u001b[0m\n\u001b[1;32m----> 1\u001b[1;33m \u001b[0mplot\u001b[0m\u001b[1;33m(\u001b[0m\u001b[0mEpoch\u001b[0m\u001b[1;33m,\u001b[0m\u001b[0mloss\u001b[0m\u001b[1;33m)\u001b[0m\u001b[1;33m\u001b[0m\u001b[1;33m\u001b[0m\u001b[0m\n\u001b[0m",
      "\u001b[1;31mNameError\u001b[0m: name 'plot' is not defined"
     ]
    }
   ],
   "source": [
    "plot(Epoch,loss)"
   ]
  },
  {
   "cell_type": "code",
   "execution_count": null,
   "id": "c7b5eb04",
   "metadata": {},
   "outputs": [],
   "source": []
  }
 ],
 "metadata": {
  "kernelspec": {
   "display_name": "Python 3 (ipykernel)",
   "language": "python",
   "name": "python3"
  },
  "language_info": {
   "codemirror_mode": {
    "name": "ipython",
    "version": 3
   },
   "file_extension": ".py",
   "mimetype": "text/x-python",
   "name": "python",
   "nbconvert_exporter": "python",
   "pygments_lexer": "ipython3",
   "version": "3.9.7"
  }
 },
 "nbformat": 4,
 "nbformat_minor": 5
}
