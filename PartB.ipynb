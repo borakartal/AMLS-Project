{
 "cells": [
  {
   "cell_type": "code",
   "execution_count": 1,
   "id": "6260e905",
   "metadata": {},
   "outputs": [],
   "source": [
    "import numpy as np\n",
    "from imutils import paths\n",
    "import cv2\n",
    "import matplotlib.pyplot as plt\n",
    "from sklearn import svm, datasets\n",
    "from sklearn.svm import SVC\n",
    "from sklearn.model_selection import train_test_split\n",
    "from sklearn.utils import shuffle\n",
    "from sklearn.metrics import classification_report,accuracy_score\n",
    "import pandas as pd \n",
    "import tensorflow as tf\n",
    "from tensorflow.keras import datasets, layers, models\n",
    "from tensorflow import keras\n",
    "from sklearn.decomposition import PCA"
   ]
  },
  {
   "cell_type": "code",
   "execution_count": 2,
   "id": "3ad7570d",
   "metadata": {},
   "outputs": [],
   "source": [
    "path = ('C:/Users/borak/AMLS/dataset/image')\n",
    "\n",
    "img_paths = sorted(list(paths.list_images(path)))\n",
    "\n",
    "img_list = []\n",
    "\n",
    "for path in img_paths:\n",
    "    image_file = cv2.imread(path)\n",
    "    gray = cv2.cvtColor(image_file, cv2.COLOR_BGR2GRAY)\n",
    "    img_list.append(gray)"
   ]
  },
  {
   "cell_type": "code",
   "execution_count": 3,
   "id": "ff131dcc",
   "metadata": {},
   "outputs": [],
   "source": [
    "X = []\n",
    "Y = []\n",
    "\n",
    "labeldata = pd.read_csv ('C:/Users/borak/AMLS/dataset/label.csv')\n",
    "\n",
    "for i in range (0,3000):\n",
    "    X.append(img_list[i])\n",
    "    if (\"no_tumor\") in (labeldata.iat[i,1]):\n",
    "        Y.append(0)\n",
    "    elif (\"meningioma_tumor\") in (labeldata.iat[i,1]):\n",
    "        Y.append(1)\n",
    "    elif (\"glioma_tumor\") in (labeldata.iat[i,1]):\n",
    "        Y.append(2)\n",
    "    elif (\"pituitary_tumor\") in (labeldata.iat[i,1]):\n",
    "        Y.append(3)"
   ]
  },
  {
   "cell_type": "code",
   "execution_count": 4,
   "id": "e5f58fe2",
   "metadata": {},
   "outputs": [
    {
     "data": {
      "text/plain": [
       "(3000, 262144)"
      ]
     },
     "execution_count": 4,
     "metadata": {},
     "output_type": "execute_result"
    }
   ],
   "source": [
    "X=np.array(X) \n",
    "X_resized=X.flatten().reshape(len(X),-1) \n",
    "X_resized.shape "
   ]
  },
  {
   "cell_type": "code",
   "execution_count": 5,
   "id": "60ca360c",
   "metadata": {},
   "outputs": [
    {
     "data": {
      "text/plain": [
       "(3000, 1)"
      ]
     },
     "execution_count": 5,
     "metadata": {},
     "output_type": "execute_result"
    }
   ],
   "source": [
    "Y=np.array(Y) \n",
    "Y_resized=Y.flatten().reshape(len(Y),-1) \n",
    "Y_resized.shape "
   ]
  },
  {
   "cell_type": "code",
   "execution_count": 6,
   "id": "0379175d",
   "metadata": {},
   "outputs": [],
   "source": [
    "X_train, X_test, Y_train, Y_test = train_test_split(X_resized, Y_resized, random_state = 42, test_size=0.8)"
   ]
  },
  {
   "cell_type": "code",
   "execution_count": 44,
   "id": "86c21288",
   "metadata": {},
   "outputs": [],
   "source": [
    "def allocate_weights_and_biases():\n",
    "\n",
    "    # define number of hidden layers ..\n",
    "    n_hidden_1 = 2048  # 1st layer number of neurons\n",
    "    n_hidden_2 = 2048  # 2nd layer number of neurons\n",
    "\n",
    "    # inputs placeholders\n",
    "    X_resized = tf.placeholder(\"float\", [None, 68, 2])\n",
    "    Y_resized = tf.placeholder(\"float\", [None, 2])  # 2 output classes  \n",
    "    # flatten image features into one vector (i.e. reshape image feature matrix into a vector)\n",
    "#images_flat = tf.contrib.layers.flatten(X)  \n",
    "    # weights and biases are initialized from a normal distribution with a specified standard devation stddev\n",
    "    stddev = 0.01\n",
    "    weights = {\n",
    "        'hidden_layer1': tf.Variable(tf.random.normal([68 * 2, 2048], stddev=stddev)),\n",
    "        'hidden_layer2': tf.Variable(tf.random.normal([2048, 2048], stddev=stddev)),\n",
    "        'out': tf.Variable(tf.random.normal([2048, 2], stddev=stddev))\n",
    "    }\n",
    "\n",
    "    biases = {\n",
    "        'bias_layer1': tf.Variable(tf.random.normal([2048], stddev=stddev)),\n",
    "        'bias_layer2': tf.Variable(tf.random.normal([2048], stddev=stddev)),\n",
    "        'out': tf.Variable(tf.random.normal([2], stddev=stddev))\n",
    "    }\n",
    "    return weights, biases, X, Y, images_flat\n"
   ]
  },
  {
   "cell_type": "code",
   "execution_count": 45,
   "id": "a51fad22",
   "metadata": {},
   "outputs": [],
   "source": [
    "# Create model\n",
    "def multilayer_perceptron():\n",
    "        \n",
    "    weights, biases, X, Y, images_flat = allocate_weights_and_biases()\n",
    "\n",
    "    # Hidden fully connected layer 1\n",
    "    layer_1 = tf.add(tf.matmul(images_flat, weights['hidden_layer1']), biases['bias_layer1'])\n",
    "    layer_1 = tf.sigmoid(layer_1)\n",
    "\n",
    "    # Hidden fully connected layer 2\n",
    "    layer_2 = tf.add(tf.matmul(layer_1, weights['hidden_layer2']), biases['bias_layer2'])\n",
    "    layer_2 = tf.sigmoid(layer_2)\n",
    "    \n",
    "    # Output fully connected layer\n",
    "    out_layer = tf.matmul(layer_2, weights['out']) + biases['out']\n",
    "\n",
    "    return out_layer, X, Y\n"
   ]
  },
  {
   "cell_type": "code",
   "execution_count": 41,
   "id": "c406a551",
   "metadata": {},
   "outputs": [
    {
     "ename": "RuntimeError",
     "evalue": "tf.placeholder() is not compatible with eager execution.",
     "output_type": "error",
     "traceback": [
      "\u001b[1;31m---------------------------------------------------------------------------\u001b[0m",
      "\u001b[1;31mRuntimeError\u001b[0m                              Traceback (most recent call last)",
      "\u001b[1;32m~\\AppData\\Local\\Temp/ipykernel_18776/3115802742.py\u001b[0m in \u001b[0;36m<module>\u001b[1;34m\u001b[0m\n\u001b[0;32m      8\u001b[0m \u001b[1;33m\u001b[0m\u001b[0m\n\u001b[0;32m      9\u001b[0m \u001b[1;31m#training_images, training_labels, test_images, test_labels = get_data()\u001b[0m\u001b[1;33m\u001b[0m\u001b[1;33m\u001b[0m\u001b[0m\n\u001b[1;32m---> 10\u001b[1;33m \u001b[0mlogits\u001b[0m\u001b[1;33m,\u001b[0m \u001b[0mX\u001b[0m\u001b[1;33m,\u001b[0m \u001b[0mY\u001b[0m \u001b[1;33m=\u001b[0m \u001b[0mmultilayer_perceptron\u001b[0m\u001b[1;33m(\u001b[0m\u001b[1;33m)\u001b[0m\u001b[1;33m\u001b[0m\u001b[1;33m\u001b[0m\u001b[0m\n\u001b[0m\u001b[0;32m     11\u001b[0m \u001b[1;33m\u001b[0m\u001b[0m\n\u001b[0;32m     12\u001b[0m \u001b[1;31m# define loss and optimizer\u001b[0m\u001b[1;33m\u001b[0m\u001b[1;33m\u001b[0m\u001b[0m\n",
      "\u001b[1;32m~\\AppData\\Local\\Temp/ipykernel_18776/711647166.py\u001b[0m in \u001b[0;36mmultilayer_perceptron\u001b[1;34m()\u001b[0m\n\u001b[0;32m      2\u001b[0m \u001b[1;32mdef\u001b[0m \u001b[0mmultilayer_perceptron\u001b[0m\u001b[1;33m(\u001b[0m\u001b[1;33m)\u001b[0m\u001b[1;33m:\u001b[0m\u001b[1;33m\u001b[0m\u001b[1;33m\u001b[0m\u001b[0m\n\u001b[0;32m      3\u001b[0m \u001b[1;33m\u001b[0m\u001b[0m\n\u001b[1;32m----> 4\u001b[1;33m     \u001b[0mweights\u001b[0m\u001b[1;33m,\u001b[0m \u001b[0mbiases\u001b[0m\u001b[1;33m,\u001b[0m \u001b[0mX\u001b[0m\u001b[1;33m,\u001b[0m \u001b[0mY\u001b[0m\u001b[1;33m,\u001b[0m \u001b[0mimages_flat\u001b[0m \u001b[1;33m=\u001b[0m \u001b[0mallocate_weights_and_biases\u001b[0m\u001b[1;33m(\u001b[0m\u001b[1;33m)\u001b[0m\u001b[1;33m\u001b[0m\u001b[1;33m\u001b[0m\u001b[0m\n\u001b[0m\u001b[0;32m      5\u001b[0m \u001b[1;33m\u001b[0m\u001b[0m\n\u001b[0;32m      6\u001b[0m     \u001b[1;31m# Hidden fully connected layer 1\u001b[0m\u001b[1;33m\u001b[0m\u001b[1;33m\u001b[0m\u001b[0m\n",
      "\u001b[1;32m~\\AppData\\Local\\Temp/ipykernel_18776/4130560322.py\u001b[0m in \u001b[0;36mallocate_weights_and_biases\u001b[1;34m()\u001b[0m\n\u001b[0;32m      6\u001b[0m \u001b[1;33m\u001b[0m\u001b[0m\n\u001b[0;32m      7\u001b[0m     \u001b[1;31m# inputs placeholders\u001b[0m\u001b[1;33m\u001b[0m\u001b[1;33m\u001b[0m\u001b[0m\n\u001b[1;32m----> 8\u001b[1;33m     \u001b[0mX_resized\u001b[0m \u001b[1;33m=\u001b[0m \u001b[0mtf\u001b[0m\u001b[1;33m.\u001b[0m\u001b[0mcompat\u001b[0m\u001b[1;33m.\u001b[0m\u001b[0mv1\u001b[0m\u001b[1;33m.\u001b[0m\u001b[0mplaceholder\u001b[0m\u001b[1;33m(\u001b[0m\u001b[1;34m\"float\"\u001b[0m\u001b[1;33m,\u001b[0m \u001b[1;33m[\u001b[0m\u001b[1;32mNone\u001b[0m\u001b[1;33m,\u001b[0m \u001b[1;36m68\u001b[0m\u001b[1;33m,\u001b[0m \u001b[1;36m2\u001b[0m\u001b[1;33m]\u001b[0m\u001b[1;33m)\u001b[0m\u001b[1;33m\u001b[0m\u001b[1;33m\u001b[0m\u001b[0m\n\u001b[0m\u001b[0;32m      9\u001b[0m     \u001b[0mY_resized\u001b[0m \u001b[1;33m=\u001b[0m \u001b[0mtf\u001b[0m\u001b[1;33m.\u001b[0m\u001b[0mcompat\u001b[0m\u001b[1;33m.\u001b[0m\u001b[0mv1\u001b[0m\u001b[1;33m.\u001b[0m\u001b[0mplaceholder\u001b[0m\u001b[1;33m(\u001b[0m\u001b[1;34m\"float\"\u001b[0m\u001b[1;33m,\u001b[0m \u001b[1;33m[\u001b[0m\u001b[1;32mNone\u001b[0m\u001b[1;33m,\u001b[0m \u001b[1;36m2\u001b[0m\u001b[1;33m]\u001b[0m\u001b[1;33m)\u001b[0m  \u001b[1;31m# 2 output classes\u001b[0m\u001b[1;33m\u001b[0m\u001b[1;33m\u001b[0m\u001b[0m\n\u001b[0;32m     10\u001b[0m     \u001b[1;31m# flatten image features into one vector (i.e. reshape image feature matrix into a vector)\u001b[0m\u001b[1;33m\u001b[0m\u001b[1;33m\u001b[0m\u001b[0m\n",
      "\u001b[1;32m~\\anaconda3\\envs\\notebook\\lib\\site-packages\\tensorflow\\python\\ops\\array_ops.py\u001b[0m in \u001b[0;36mplaceholder\u001b[1;34m(dtype, shape, name)\u001b[0m\n\u001b[0;32m   3284\u001b[0m   \"\"\"\n\u001b[0;32m   3285\u001b[0m   \u001b[1;32mif\u001b[0m \u001b[0mcontext\u001b[0m\u001b[1;33m.\u001b[0m\u001b[0mexecuting_eagerly\u001b[0m\u001b[1;33m(\u001b[0m\u001b[1;33m)\u001b[0m\u001b[1;33m:\u001b[0m\u001b[1;33m\u001b[0m\u001b[1;33m\u001b[0m\u001b[0m\n\u001b[1;32m-> 3286\u001b[1;33m     raise RuntimeError(\"tf.placeholder() is not compatible with \"\n\u001b[0m\u001b[0;32m   3287\u001b[0m                        \"eager execution.\")\n\u001b[0;32m   3288\u001b[0m \u001b[1;33m\u001b[0m\u001b[0m\n",
      "\u001b[1;31mRuntimeError\u001b[0m: tf.placeholder() is not compatible with eager execution."
     ]
    }
   ],
   "source": [
    "# learning parameters\n",
    "learning_rate = 1e-5\n",
    "training_epochs = 500\n",
    "\n",
    "# display training accuracy every ..\n",
    "display_accuracy_step = 10\n",
    "\n",
    "    \n",
    "#training_images, training_labels, test_images, test_labels = get_data()\n",
    "logits, X, Y = multilayer_perceptron()\n",
    "\n",
    "# define loss and optimizer\n",
    "loss_op = tf.reduce_mean(tf.nn.softmax_cross_entropy_with_logits(\n",
    "    logits=logits, labels=Y))\n",
    "optimizer = tf.train.AdamOptimizer(learning_rate=learning_rate)\n",
    "\n",
    "# define training graph operation\n",
    "train_op = optimizer.minimize(loss_op)\n",
    "\n",
    "# graph operation to initialize all variables\n",
    "init_op = tf.global_variables_initializer()"
   ]
  },
  {
   "cell_type": "code",
   "execution_count": null,
   "id": "25878c52",
   "metadata": {},
   "outputs": [],
   "source": []
  }
 ],
 "metadata": {
  "kernelspec": {
   "display_name": "Python 3 (ipykernel)",
   "language": "python",
   "name": "python3"
  },
  "language_info": {
   "codemirror_mode": {
    "name": "ipython",
    "version": 3
   },
   "file_extension": ".py",
   "mimetype": "text/x-python",
   "name": "python",
   "nbconvert_exporter": "python",
   "pygments_lexer": "ipython3",
   "version": "3.9.7"
  }
 },
 "nbformat": 4,
 "nbformat_minor": 5
}
