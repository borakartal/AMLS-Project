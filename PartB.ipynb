{
 "cells": [
  {
   "cell_type": "code",
   "execution_count": 1,
   "id": "6260e905",
   "metadata": {},
   "outputs": [],
   "source": [
    "#First of all we import all the necessary modules that we have installed on Anaconda Navigator. The modules below are used for\n",
    "#reading the image files and the Excel document and other functions. As we will be using keras for our module, it is also \n",
    "#installed\n",
    "\n",
    "import numpy as np\n",
    "from imutils import paths\n",
    "import cv2\n",
    "import matplotlib.pyplot as plt\n",
    "from sklearn import svm, datasets\n",
    "from sklearn.svm import SVC\n",
    "from sklearn.model_selection import train_test_split\n",
    "from sklearn.utils import shuffle\n",
    "from sklearn.metrics import classification_report,accuracy_score\n",
    "import pandas as pd \n",
    "import tensorflow as tf\n",
    "from tensorflow.keras import datasets, layers, models\n",
    "from tensorflow import keras\n",
    "from PIL import Image\n",
    "\n",
    "#Modules below are used for the onehot-encoding fucntion which is used to create one of the input data for our model\n",
    "\n",
    "from sklearn.preprocessing import LabelEncoder\n",
    "from sklearn.preprocessing import OneHotEncoder\n",
    "from numpy import array\n",
    "from numpy import argmax\n",
    "\n",
    "#Modules below are used for the model. It involves the functions such as the model type Sequential, along with the used layers\n",
    "\n",
    "from keras.models import Sequential\n",
    "from keras.layers import Convolution2D\n",
    "from keras.layers import MaxPooling2D\n",
    "from keras.layers import Activation\n",
    "from keras.layers import Flatten\n",
    "from keras.layers import Dense\n",
    "from keras.layers import Dropout"
   ]
  },
  {
   "cell_type": "code",
   "execution_count": 2,
   "id": "3ad7570d",
   "metadata": {},
   "outputs": [],
   "source": [
    "#The path for the images are defined here, and are read using the cv2.imread function in a for loop. The list is also sorted \n",
    "#according to alphabetic order from IMAGE_0000 to IMAGE_2999\n",
    "\n",
    "path = ('C:/Users/borak/AMLS/dataset/image')\n",
    "\n",
    "img_paths = sorted(list(paths.list_images(path)))\n",
    "\n",
    "img_list = []\n",
    "\n",
    "#The image size is halved (256x256) so that the model is easier to run and less timely. Through experimenting with different \n",
    "#sizes, 64x64 has proven more than sufficient to get accurate results. images are also turned into grayscale for better \n",
    "#efficiency\n",
    "\n",
    "for path in img_paths:\n",
    "    image_file = cv2.imread(path)\n",
    "    resized = cv2.resize(image_file,(64,64))\n",
    "    gray = cv2.cvtColor(resized, cv2.COLOR_BGR2GRAY)\n",
    "    img_list.append(gray)"
   ]
  },
  {
   "cell_type": "code",
   "execution_count": 3,
   "id": "1aad1232",
   "metadata": {},
   "outputs": [],
   "source": [
    "#Lists which will be used as inputs are created here. X will be the list that contains image data, and Y will contain the tumor \n",
    "#types. For loop is used and it repeats for 3000 times as there are 3000 data points.\n",
    "\n",
    "X = []\n",
    "Y = []\n",
    "\n",
    "#Path for the labels is written here \n",
    "\n",
    "labeldata = pd.read_csv ('C:/Users/borak/AMLS/dataset/label.csv')\n",
    "\n",
    "#If loops in the loop below will search for label names and act accordingly by appending the appropriate number in Y list\n",
    "\n",
    "for i in range (0,3000):\n",
    "    X.append(img_list[i])\n",
    "    if (\"no_tumor\") in (labeldata.iat[i,1]):\n",
    "        Y.append(0)\n",
    "    elif (\"meningioma_tumor\") in (labeldata.iat[i,1]):\n",
    "        Y.append(1)\n",
    "    elif (\"glioma_tumor\") in (labeldata.iat[i,1]):\n",
    "        Y.append(2)\n",
    "    elif (\"pituitary_tumor\") in (labeldata.iat[i,1]):\n",
    "        Y.append(3)"
   ]
  },
  {
   "cell_type": "code",
   "execution_count": 4,
   "id": "f7249029",
   "metadata": {},
   "outputs": [],
   "source": [
    "#X list is turned into an array and then reshaped, and finally normalized by dividing the values by 255\n",
    "\n",
    "X=np.array(X) \n",
    "X_resized=X.reshape(-1,64,64,1) \n",
    "X_resized=X_resized/255.0"
   ]
  },
  {
   "cell_type": "code",
   "execution_count": 5,
   "id": "a375683a",
   "metadata": {},
   "outputs": [],
   "source": [
    "#Y list is turned into an array and then flattened. This is done so that the onehot-encoding function has the appropriate \n",
    "#dimensions\n",
    "\n",
    "Y=np.array(Y)\n",
    "Y=Y.flatten()"
   ]
  },
  {
   "cell_type": "code",
   "execution_count": 6,
   "id": "0754f53d",
   "metadata": {},
   "outputs": [
    {
     "name": "stdout",
     "output_type": "stream",
     "text": [
      "[[0. 1. 0. 0.]\n",
      " [1. 0. 0. 0.]\n",
      " [0. 1. 0. 0.]\n",
      " ...\n",
      " [0. 0. 1. 0.]\n",
      " [0. 0. 1. 0.]\n",
      " [0. 0. 0. 1.]]\n"
     ]
    }
   ],
   "source": [
    "#The code below turnes Y list into a onehot-encoded matrix, which will be easier to use in the cnn model. The output is printed\n",
    "#for visualization\n",
    "\n",
    "values = array(Y)\n",
    "encoder = LabelEncoder()\n",
    "integer_encoded = encoder.fit_transform(values)\n",
    "onehot_encoder = OneHotEncoder(sparse=False)\n",
    "integer_encoded = integer_encoded.reshape(len(integer_encoded), 1)\n",
    "onehot_encoded = onehot_encoder.fit_transform(integer_encoded)\n",
    "print(onehot_encoded)"
   ]
  },
  {
   "cell_type": "code",
   "execution_count": 7,
   "id": "4fc9bac5",
   "metadata": {
    "scrolled": true
   },
   "outputs": [],
   "source": [
    "#This cell creates the cnn model. It will be a sequential model, will use two convolution layers with relu activation. \n",
    "#The first convolution layer will have 64 filters and the second will have 32. It will have two densing layers with the first \n",
    "#having a relu activation and the last will have a softmax activation. There will also be a 0.2 dropout between the densing l\n",
    "#layers for better validation loss\n",
    "\n",
    "model=Sequential()\n",
    "model.add(Convolution2D(64,(3,3),input_shape=X_resized.shape[1:]))\n",
    "model.add(Activation(\"relu\"))\n",
    "model.add(MaxPooling2D(pool_size=(2,2)))\n",
    "\n",
    "model.add(Dropout(0.2))\n",
    "\n",
    "model.add(Convolution2D(32,(3,3)))\n",
    "model.add(Activation(\"relu\"))\n",
    "model.add(MaxPooling2D(pool_size=(2,2)))\n",
    "\n",
    "model.add(Flatten())\n",
    "\n",
    "model.add(Dense(32))\n",
    "model.add(Activation(\"relu\"))\n",
    "\n",
    "model.add(Dropout(0.2))\n",
    "\n",
    "model.add(Dense(4))\n",
    "model.add(Activation('softmax'))\n",
    "\n",
    "#The model willl use the adam optimizer\n",
    "\n",
    "model.compile(loss=\"categorical_crossentropy\",\n",
    "             optimizer=\"adam\",\n",
    "             metrics=['accuracy'])\n",
    "#model.summary()"
   ]
  },
  {
   "cell_type": "code",
   "execution_count": 8,
   "id": "f8e3096c",
   "metadata": {
    "scrolled": true
   },
   "outputs": [
    {
     "name": "stdout",
     "output_type": "stream",
     "text": [
      "Epoch 1/15\n",
      "169/169 [==============================] - 5s 30ms/step - loss: 1.1703 - accuracy: 0.4919 - val_loss: 0.9079 - val_accuracy: 0.6233\n",
      "Epoch 2/15\n",
      "169/169 [==============================] - 5s 28ms/step - loss: 0.8353 - accuracy: 0.6459 - val_loss: 0.8174 - val_accuracy: 0.6700\n",
      "Epoch 3/15\n",
      "169/169 [==============================] - 5s 28ms/step - loss: 0.7034 - accuracy: 0.7074 - val_loss: 0.6211 - val_accuracy: 0.7433\n",
      "Epoch 4/15\n",
      "169/169 [==============================] - 5s 30ms/step - loss: 0.5960 - accuracy: 0.7578 - val_loss: 0.5206 - val_accuracy: 0.7733\n",
      "Epoch 5/15\n",
      "169/169 [==============================] - 5s 29ms/step - loss: 0.5143 - accuracy: 0.7900 - val_loss: 0.5263 - val_accuracy: 0.7767\n",
      "Epoch 6/15\n",
      "169/169 [==============================] - 5s 29ms/step - loss: 0.4564 - accuracy: 0.8204 - val_loss: 0.4385 - val_accuracy: 0.8033\n",
      "Epoch 7/15\n",
      "169/169 [==============================] - 5s 29ms/step - loss: 0.4081 - accuracy: 0.8348 - val_loss: 0.4675 - val_accuracy: 0.8067\n",
      "Epoch 8/15\n",
      "169/169 [==============================] - 5s 30ms/step - loss: 0.3744 - accuracy: 0.8448 - val_loss: 0.4044 - val_accuracy: 0.8500\n",
      "Epoch 9/15\n",
      "169/169 [==============================] - 5s 29ms/step - loss: 0.3243 - accuracy: 0.8667 - val_loss: 0.4197 - val_accuracy: 0.8433\n",
      "Epoch 10/15\n",
      "169/169 [==============================] - 5s 30ms/step - loss: 0.2951 - accuracy: 0.8748 - val_loss: 0.4319 - val_accuracy: 0.8367\n",
      "Epoch 11/15\n",
      "169/169 [==============================] - 5s 30ms/step - loss: 0.2728 - accuracy: 0.8878 - val_loss: 0.4425 - val_accuracy: 0.8367\n",
      "Epoch 12/15\n",
      "169/169 [==============================] - 5s 30ms/step - loss: 0.2509 - accuracy: 0.8944 - val_loss: 0.4427 - val_accuracy: 0.8367\n",
      "Epoch 13/15\n",
      "169/169 [==============================] - 5s 30ms/step - loss: 0.2244 - accuracy: 0.9033 - val_loss: 0.4486 - val_accuracy: 0.8567\n",
      "Epoch 14/15\n",
      "169/169 [==============================] - 5s 30ms/step - loss: 0.2157 - accuracy: 0.9067 - val_loss: 0.4841 - val_accuracy: 0.8433\n",
      "Epoch 15/15\n",
      "169/169 [==============================] - 5s 29ms/step - loss: 0.2045 - accuracy: 0.9141 - val_loss: 0.4469 - val_accuracy: 0.8800\n"
     ]
    }
   ],
   "source": [
    "#The model will be run in this cell. Epoch number will be 15, and each batch will be the size of 16. 0.1 of data will be used as \n",
    "#validation\n",
    "\n",
    "cnn = model.fit(X_resized,onehot_encoded,batch_size=16,epochs=15,validation_split=0.1)"
   ]
  },
  {
   "cell_type": "code",
   "execution_count": 9,
   "id": "de518656",
   "metadata": {},
   "outputs": [
    {
     "data": {
      "image/png": "[encoded data removed]",
      "text/plain": [
       "<Figure size 432x288 with 1 Axes>"
      ]
     },
     "metadata": {
      "needs_background": "light"
     },
     "output_type": "display_data"
    },
    {
     "data": {
      "image/png": "[encoded data removed]",
      "text/plain": [
       "<Figure size 432x288 with 1 Axes>"
      ]
     },
     "metadata": {
      "needs_background": "light"
     },
     "output_type": "display_data"
    }
   ],
   "source": [
    "#Here we will be generating the plots for model accuracy for the trainig data and validation data\n",
    "\n",
    "plt.plot(cnn.history['accuracy'])\n",
    "plt.plot(cnn.history['val_accuracy'])\n",
    "plt.title('model accuracy')\n",
    "plt.ylabel('accuracy')\n",
    "plt.xlabel('epoch')\n",
    "plt.legend(['train', 'validation'], loc='upper left')\n",
    "plt.show()\n",
    "\n",
    "#Here we will be generating the plots for model loss values for the trainig data and validation data\n",
    "\n",
    "plt.plot(cnn.history['loss'])\n",
    "plt.plot(cnn.history['val_loss'])\n",
    "plt.title('model loss')\n",
    "plt.ylabel('loss')\n",
    "plt.xlabel('epoch')\n",
    "plt.legend(['train', 'validation'], loc='upper right')\n",
    "plt.show()"
   ]
  }
 ],
 "metadata": {
  "kernelspec": {
   "display_name": "Python 3 (ipykernel)",
   "language": "python",
   "name": "python3"
  },
  "language_info": {
   "codemirror_mode": {
    "name": "ipython",
    "version": 3
   },
   "file_extension": ".py",
   "mimetype": "text/x-python",
   "name": "python",
   "nbconvert_exporter": "python",
   "pygments_lexer": "ipython3",
   "version": "3.9.7"
  }
 },
 "nbformat": 4,
 "nbformat_minor": 5
}
